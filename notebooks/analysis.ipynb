{
 "cells": [
  {
   "cell_type": "code",
   "execution_count": 3,
   "id": "49313ec4",
   "metadata": {},
   "outputs": [],
   "source": [
    "import pickle\n",
    "import pandas as pd\n",
    "import matplotlib.pyplot as plt\n",
    "import seaborn as sns\n",
    "import numpy as np\n",
    "import random\n",
    "from sklearn.metrics import confusion_matrix, accuracy_score, precision_score, recall_score\n",
    "from nltk.stem import WordNetLemmatizer\n",
    "from nltk.corpus import stopwords\n",
    "from sklearn.feature_extraction.text import TfidfVectorizer\n",
    "import re"
   ]
  },
  {
   "cell_type": "code",
   "execution_count": 6,
   "id": "a9467f2a",
   "metadata": {},
   "outputs": [
    {
     "name": "stdout",
     "output_type": "stream",
     "text": [
      "Train Accuracy: 97.4\n",
      "Train Precision: 99.2\n",
      "Train Recall: 95.6\n",
      "Test Accuracy: 94.7\n",
      "Test Precision: 95.3\n",
      "Test Recall: 93.8\n"
     ]
    },
    {
     "data": {
      "image/png": "[encoded data removed]",
      "text/plain": [
       "<Figure size 1000x500 with 2 Axes>"
      ]
     },
     "metadata": {},
     "output_type": "display_data"
    }
   ],
   "source": [
    "# Init DecisionTree\n",
    "with open('models/clf.pkl', 'rb') as f:\n",
    "    clf = pickle.load(f)\n",
    "    \n",
    "# Load Training and Test data\n",
    "with open('data/Train-Test-Data.pkl', 'rb') as f:\n",
    "    data = pickle.load(f)\n",
    "    \n",
    "X_train = data[0]\n",
    "X_test = data[1]\n",
    "Y_train = data[2]\n",
    "Y_test = data[3]\n",
    "    \n",
    "clf.fit(X_train, Y_train)\n",
    "\n",
    "# Generate confusion matrix for train set\n",
    "train_pred = clf.predict(X_train)\n",
    "train_cm = confusion_matrix(Y_train, train_pred)\n",
    "\n",
    "# Generate confusion matrix for test set\n",
    "test_pred = clf.predict(X_test)\n",
    "test_cm = confusion_matrix(Y_test, test_pred)\n",
    "\n",
    "# Calculate accuracy, precision, and recall for train set\n",
    "train_acc = accuracy_score(Y_train, train_pred)\n",
    "train_prec = precision_score(Y_train, train_pred)\n",
    "train_rec = recall_score(Y_train, train_pred)\n",
    "\n",
    "# Calculate accuracy, precision, and recall for test set\n",
    "test_acc = accuracy_score(Y_test, test_pred)\n",
    "test_prec = precision_score(Y_test, test_pred)\n",
    "test_rec = recall_score(Y_test, test_pred)\n",
    "\n",
    "# Plot the confusion matrices with labels\n",
    "fig, ax = plt.subplots(1, 2, figsize=(10, 5))\n",
    "sns.heatmap(train_cm, annot=True, fmt='d', cmap='Blues', ax=ax[0], annot_kws={'size': 14}, cbar=False)\n",
    "sns.heatmap(test_cm, annot=True, fmt='d', cmap='Blues', ax=ax[1], annot_kws={'size': 14}, cbar=False)\n",
    "ax[0].set_title('Train Set Confusion Matrix')\n",
    "ax[1].set_title('Test Set Confusion Matrix')\n",
    "\n",
    "# Print accuracy, precision, and recall\n",
    "print('Train Accuracy:', round(train_acc*100, 1))\n",
    "print('Train Precision:', round(train_prec*100, 1))\n",
    "print('Train Recall:', round(train_rec*100, 1))\n",
    "print('Test Accuracy:', round(test_acc*100, 1))\n",
    "print('Test Precision:', round(test_prec*100, 1))\n",
    "print('Test Recall:', round(test_rec*100, 1))\n",
    "\n",
    "plt.show()"
   ]
  },
  {
   "cell_type": "code",
   "execution_count": 7,
   "id": "9044c438",
   "metadata": {},
   "outputs": [
    {
     "name": "stdout",
     "output_type": "stream",
     "text": [
      "Misclassifications:\n",
      "6 ham messages classified as spam\n",
      "8 spam messages classified as ham\n"
     ]
    }
   ],
   "source": [
    "# Identify which classes are most often misclassified\n",
    "class_names = ['ham', 'spam']\n",
    "print('Misclassifications:')\n",
    "for i in range(len(class_names)):\n",
    "    for j in range(len(class_names)):\n",
    "        if i != j:\n",
    "            misclassified = np.where((Y_test == i) & (test_pred == j))[0]\n",
    "            print(f'{len(misclassified)} {class_names[i]} messages classified as {class_names[j]}')"
   ]
  },
  {
   "cell_type": "code",
   "execution_count": 25,
   "id": "0869cf65",
   "metadata": {},
   "outputs": [],
   "source": [
    "# Analyse a set of test messages\n",
    "df = pd.read_csv('test_messages.csv', sep='\\t', header=None, names=['label', 'message'])\n",
    "\n",
    "messages = df['message'].to_list()\n",
    "labels = df['label'].to_list()\n",
    "    \n",
    "# Feature engineering\n",
    "df['message_length'] = df['message'].apply(len)\n",
    "df['num_digits'] = df['message'].apply(lambda x: sum([1 if char.isdigit() else 0 for char in x]))\n",
    "df['num_unique_words'] = df['message'].apply(lambda x: len(set(re.findall(r'\\w+', x))))\n",
    "df['stemmed_message'] = df['message'].apply(lambda x: ' '.join([WordNetLemmatizer().lemmatize(word) for word in x.split()]))\n",
    "    \n",
    "with open('models/vec.pkl', 'rb') as f:\n",
    "    tfidf = pickle.load(f)    \n",
    "    \n",
    "tfidf_result = tfidf.transform(df['stemmed_message']).toarray()\n",
    "tfidf_feature_names = tfidf.get_feature_names_out()\n",
    "tfidf_df = pd.DataFrame(tfidf_result, columns=tfidf_feature_names)\n",
    "\n",
    "df.drop(['message', 'stemmed_message', 'label'], axis=1, inplace=True)\n",
    "df = pd.concat([df, tfidf_df], axis=1)\n",
    "\n",
    "features = df.to_numpy()"
   ]
  },
  {
   "cell_type": "code",
   "execution_count": 54,
   "id": "40b7c263",
   "metadata": {},
   "outputs": [
    {
     "name": "stdout",
     "output_type": "stream",
     "text": [
      "Message: Congratulations! You've been selected as the lucky winner of a luxury vacation package worth $10,000! Call now to claim your prize at 1-800-555-1234.\n",
      "True Label: spam\n",
      "Predicted Label: spam\n",
      "Probability: 100.0\n",
      "\n",
      "Message: Hey, just wanted to remind you about our lunch plans tomorrow. We're meeting at that new burger joint downtown at 12:30. See you there!\n",
      "True Label: ham\n",
      "Predicted Label: spam\n",
      "Probability: 100.0\n",
      "\n",
      "Message: Urgent Notice: Your bank account has been compromised. Please click the following link and enter your personal information to secure your account: www.fakesite.com.\n",
      "True Label: spam\n",
      "Predicted Label: ham\n",
      "Probability: 96.45669291338582\n",
      "\n",
      "Message: Hi there! How was your weekend? I heard you went hiking. I'd love to see some pictures. Let's catch up soon!\n",
      "True Label: ham\n",
      "Predicted Label: ham\n",
      "Probability: 96.45669291338582\n",
      "\n",
      "Message: Limited-time offer! Get a free iPhone X with a 2-year contract. Visit our store or call 1-800-123-4567 to claim your free device now!\n",
      "True Label: spam\n",
      "Predicted Label: spam\n",
      "Probability: 100.0\n",
      "\n",
      "Message: Good morning! Just a friendly reminder that the deadline for submitting your project is tomorrow at 5 PM. Let me know if you need any assistance.\n",
      "True Label: ham\n",
      "Predicted Label: ham\n",
      "Probability: 96.45669291338582\n",
      "\n",
      "Message: Attention! You've won a brand new car in our exclusive giveaway. To claim your prize, simply reply to this message with your full name, address, and contact number.\n",
      "True Label: spam\n",
      "Predicted Label: spam\n",
      "Probability: 66.66666666666666\n",
      "\n",
      "Message: Hey, I found this amazing recipe for chocolate chip cookies. I thought you might be interested. Let me know if you want me to share it with you.\n",
      "True Label: ham\n",
      "Predicted Label: ham\n",
      "Probability: 96.45669291338582\n",
      "\n",
      "Message: Act now and save 50% on all weight loss products. Achieve your dream body in just weeks! Don't miss this incredible offer!\n",
      "True Label: spam\n",
      "Predicted Label: ham\n",
      "Probability: 84.61538461538461\n",
      "\n",
      "Message: Hi! I hope you're doing well. I wanted to invite you to my birthday party next week. It's going to be a fun night with good food and great company. Let me know if you can make it.\n",
      "True Label: ham\n",
      "Predicted Label: ham\n",
      "Probability: 96.45669291338582\n",
      "\n"
     ]
    }
   ],
   "source": [
    "classes = clf.predict(features)\n",
    "probabilities = clf.predict_proba(features)\n",
    "\n",
    "for i, message in enumerate(messages):\n",
    "    \n",
    "    print('Message: ' + message)\n",
    "    print('True Label: ' + labels[i])\n",
    "    \n",
    "    predicted_label = 'ham'\n",
    "    if predictions[i] == 1:\n",
    "        predicted_label = 'spam'\n",
    "        \n",
    "    print('Predicted Label: ' + predicted_label)\n",
    "    print('Probability: ' + str(probabilities[i].max()*100) + '\\n')"
   ]
  }
 ],
 "metadata": {
  "kernelspec": {
   "display_name": "Python 3 (ipykernel)",
   "language": "python",
   "name": "python3"
  },
  "language_info": {
   "codemirror_mode": {
    "name": "ipython",
    "version": 3
   },
   "file_extension": ".py",
   "mimetype": "text/x-python",
   "name": "python",
   "nbconvert_exporter": "python",
   "pygments_lexer": "ipython3",
   "version": "3.9.0"
  }
 },
 "nbformat": 4,
 "nbformat_minor": 5
}
