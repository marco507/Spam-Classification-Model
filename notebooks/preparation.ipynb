{
 "cells": [
  {
   "cell_type": "code",
   "execution_count": 1,
   "id": "303317a6",
   "metadata": {},
   "outputs": [],
   "source": [
    "import pandas as pd\n",
    "import numpy as np\n",
    "import re\n",
    "from nltk.stem import WordNetLemmatizer\n",
    "from nltk.corpus import stopwords\n",
    "from sklearn.feature_extraction.text import TfidfVectorizer\n",
    "import pickle"
   ]
  },
  {
   "cell_type": "code",
   "execution_count": 2,
   "id": "fe286d5e",
   "metadata": {},
   "outputs": [],
   "source": [
    "# Load data\n",
    "df = pd.read_csv('data/SMSSpamCollection.csv', sep='\\t', header=None, names=['label', 'message'])\n",
    "\n",
    "# Data cleaning\n",
    "df.drop_duplicates(inplace=True)\n",
    "df = df.reset_index(drop=True)\n",
    "\n",
    "# Feature engineering\n",
    "df['message_length'] = df['message'].apply(len)\n",
    "df['num_digits'] = df['message'].apply(lambda x: sum([1 if char.isdigit() else 0 for char in x]))\n",
    "df['num_unique_words'] = df['message'].apply(lambda x: len(set(re.findall(r'\\w+', x))))\n",
    "df['stemmed_message'] = df['message'].apply(lambda x: ' '.join([WordNetLemmatizer().lemmatize(word) for word in x.split()]))\n",
    "\n",
    "tfidf = TfidfVectorizer(stop_words='english', max_features=150)\n",
    "tfidf_result = tfidf.fit_transform(df['stemmed_message']).toarray()\n",
    "tfidf_feature_names = tfidf.get_feature_names_out()\n",
    "tfidf_df = pd.DataFrame(tfidf_result, columns=tfidf_feature_names)\n",
    "\n",
    "# Save the vectorizer\n",
    "with open('models/vec.pkl', 'wb') as f:\n",
    "    pickle.dump(tfidf, f)\n",
    "\n",
    "df.drop(['message', 'stemmed_message'], axis=1, inplace=True)\n",
    "df = pd.concat([df, tfidf_df], axis=1)"
   ]
  },
  {
   "cell_type": "code",
   "execution_count": 3,
   "id": "2efe797f",
   "metadata": {},
   "outputs": [],
   "source": [
    "# Balance the dataset\n",
    "ham = df[df['label'] == 'ham']\n",
    "spam = df[df['label'] == 'spam']\n",
    "ham_count, spam_count = len(ham), len(spam)\n",
    "ham = ham.sample(spam_count, replace=True, random_state=42)\n",
    "df = pd.concat([ham, spam], axis=0)\n",
    "\n",
    "# Set the target variable to 0 or 1\n",
    "df['label'] = df['label'].apply(lambda x: 0 if x == 'ham' else 1)"
   ]
  },
  {
   "cell_type": "code",
   "execution_count": 4,
   "id": "29c7bd50",
   "metadata": {},
   "outputs": [],
   "source": [
    "# Save the prepared data as csv\n",
    "df.to_csv('data/PreparedMessages.csv', sep=';', index=False)"
   ]
  }
 ],
 "metadata": {
  "kernelspec": {
   "display_name": "Python 3 (ipykernel)",
   "language": "python",
   "name": "python3"
  },
  "language_info": {
   "codemirror_mode": {
    "name": "ipython",
    "version": 3
   },
   "file_extension": ".py",
   "mimetype": "text/x-python",
   "name": "python",
   "nbconvert_exporter": "python",
   "pygments_lexer": "ipython3",
   "version": "3.9.0"
  }
 },
 "nbformat": 4,
 "nbformat_minor": 5
}
